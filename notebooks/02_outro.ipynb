{
 "cells": [
  {
   "cell_type": "markdown",
   "id": "e05b8227",
   "metadata": {},
   "source": [
    "<span style=\"font-size: 5em;\"> `skchange` </span>\n",
    "<img src=\"./img/NR_initial_hvit.png\" alt=\"NR logo\" style=\"width: 30%; max-width: 200px;\"> "
   ]
  },
  {
   "attachments": {},
   "cell_type": "markdown",
   "id": "37997396",
   "metadata": {},
   "source": [
    "# Summary"
   ]
  },
  {
   "cell_type": "markdown",
   "id": "404a3fc1",
   "metadata": {},
   "source": [
    "1. **General introduction** to scikit-learn-like packages: `sktime`, `skchange`\n",
    "\n",
    "    * Unified interface for estimators\n",
    "    * Modular design\n",
    "    * Composable\n",
    "    * Simple parameter interface\n",
    "\n",
    "2. **Detection**\n",
    "\n",
    "    * Change detection and segmentation\n",
    "    * Segment anomaly detection\n",
    "    * Detector API\n",
    "    * Algorithm framework\n",
    "    * Costs and scores\n",
    "\n",
    "3. **Use cases**\n",
    "\n",
    "    * Fault detection - heating and ventilation system"
   ]
  },
  {
   "cell_type": "markdown",
   "id": "9e83f9f3",
   "metadata": {},
   "source": [
    "Websites:\n",
    "\n",
    "* [`skchange`](https://skchange.readthedocs.io)\n",
    "* [`sktime`](https://www.sktime.net/en/latest/index.html)"
   ]
  },
  {
   "cell_type": "markdown",
   "id": "c0aaa571",
   "metadata": {},
   "source": [
    ":star::star::star::star::star: [GitHub](https://github.com/NorskRegnesentral/skchange)"
   ]
  },
  {
   "attachments": {},
   "cell_type": "markdown",
   "id": "fbb8d3c5",
   "metadata": {},
   "source": [
    "Further reading:\n",
    "\n",
    "* main `sktime` [tutorials on binder](https://mybinder.org/v2/gh/sktime/sktime/main?filepath=examples)\n",
    "* recorded [video tutorials](https://www.youtube.com/playlist?list=PLKs3UgGjlWHqNzu0LEOeLKvnjvvest2d0)\n",
    "* find a bug or type? [tutorial feedback thread](https://github.com/sktime/sktime/issues/1447)"
   ]
  },
  {
   "attachments": {},
   "cell_type": "markdown",
   "id": "b66e01a8",
   "metadata": {},
   "source": [
    "---"
   ]
  },
  {
   "cell_type": "markdown",
   "id": "ef1cc771",
   "metadata": {},
   "source": [
    "## Join sktime!"
   ]
  },
  {
   "cell_type": "markdown",
   "id": "7c51e1f7",
   "metadata": {},
   "source": [
    "<img src=\"./img/mission-statement.png\" alt=\"sktime mission statement\" style=\"width: 100%; max-width: 1200px;\">"
   ]
  },
  {
   "attachments": {},
   "cell_type": "markdown",
   "id": "b6da2ae3",
   "metadata": {},
   "source": [
    "**EVERYONE CAN JOIN! EVERYONE CAN BECOME A COMMUNITY LEADER!**\n",
    "\n",
    "* [community discord](https://discord.com/invite/54ACzaFsn7)\n",
    "* [contributor getting started guide](https://github.com/sktime/sktime/)\n",
    "* [sktime **mentoring programme**](www.github.com/sktime/mentoring)\n",
    "\n",
    "Support us if `sktime` has generated value for you!\n",
    "\n",
    ":star::star::star::star::star: [GitHub](https://github.com/sktime/sktime)\n",
    "\n",
    "subscribe on [LinkedIn](https://www.linkedin.com/company/scikit-time/)"
   ]
  },
  {
   "attachments": {},
   "cell_type": "markdown",
   "id": "adfa5420",
   "metadata": {},
   "source": [
    "---"
   ]
  },
  {
   "attachments": {},
   "cell_type": "markdown",
   "id": "286d4c8d",
   "metadata": {},
   "source": [
    "## Thank you for your attention"
   ]
  },
  {
   "attachments": {},
   "cell_type": "markdown",
   "id": "2d1c59a2",
   "metadata": {},
   "source": [
    "---\n",
    "### Credits: many thanks to [all `sktime` contributors](https://www.sktime.net/en/latest/about/contributors.html)!\n",
    "\n",
    "\n",
    "<img src=\"./img/sktime-logo-text-horizontal.jpg\" alt=\"Sktime Logo\" width=\"1000\"/>\n",
    "\n",
    "<img src=\"./img/contributors 2024-08.svg\" alt=\"sktime contributors\" width=\"1000\"/>"
   ]
  },
  {
   "cell_type": "markdown",
   "id": "92c1ce2d",
   "metadata": {},
   "source": [
    "\n",
    "Citations & credits in academic research papers:\n",
    "\n",
    "`sktime` toolbox:\n",
    " [sktime: A unified interface for machine learning with time series](https://arxiv.org/abs/1909.07872)\n",
    "\n",
    "`sktime` design principles: [Designing machine learning toolboxes: Concepts, principles and patterns](https://arxiv.org/abs/2101.04938)"
   ]
  }
 ],
 "metadata": {
  "kernelspec": {
   "display_name": "venv",
   "language": "python",
   "name": "python3"
  },
  "language_info": {
   "codemirror_mode": {
    "name": "ipython",
    "version": 3
   },
   "file_extension": ".py",
   "mimetype": "text/x-python",
   "name": "python",
   "nbconvert_exporter": "python",
   "pygments_lexer": "ipython3",
   "version": "3.12.7"
  }
 },
 "nbformat": 4,
 "nbformat_minor": 5
}
